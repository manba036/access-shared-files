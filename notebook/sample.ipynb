{
 "cells": [
  {
   "cell_type": "markdown",
   "metadata": {},
   "source": [
    "# PythonでWindows共有フォルダへアクセス\n",
    "https://qiita.com/t2kojima/items/250d68c56a8c9fe95f52\n",
    "https://qiita.com/t2kojima/items/5db8dadaa6e07321d25f"
   ]
  },
  {
   "cell_type": "markdown",
   "metadata": {},
   "source": [
    "## 事前準備\n",
    "notebookフォルダに下記内容のconfig.jsonを格納する\n",
    "```\n",
    "{\n",
    "    \"user\": \"user\",\n",
    "    \"password\": \"password\",\n",
    "    \"remote_hostname\": \"hogehoge\",\n",
    "    \"ip_address\": \"xxx.xxx.xxx.xxx\",    \n",
    "    \"domain\": \"\"\n",
    "}\n",
    "```"
   ]
  },
  {
   "cell_type": "code",
   "execution_count": null,
   "metadata": {},
   "outputs": [],
   "source": [
    "import io\n",
    "import json\n",
    "import platform\n",
    "\n",
    "from smb.SMBConnection import SMBConnection"
   ]
  },
  {
   "cell_type": "code",
   "execution_count": null,
   "metadata": {},
   "outputs": [],
   "source": [
    "with open('config.json', 'r') as f:\n",
    "    config = json.load(f)"
   ]
  },
  {
   "cell_type": "code",
   "execution_count": null,
   "metadata": {},
   "outputs": [],
   "source": [
    "# connection open\n",
    "conn = SMBConnection(\n",
    "    config['user'],\n",
    "    config['password'],\n",
    "    platform.uname().node,\n",
    "    config['remote_hostname'],\n",
    "    domain=config['domain'],\n",
    "    use_ntlm_v2=True\n",
    ")\n",
    "conn.connect(config['ip_address'], 139)"
   ]
  },
  {
   "cell_type": "code",
   "execution_count": null,
   "metadata": {},
   "outputs": [],
   "source": [
    "with io.BytesIO() as file:\n",
    "    conn.retrieveFile('share', 'sample.txt', file)\n",
    "    file.seek(0)\n",
    "    print([line.decode() for line in file])"
   ]
  },
  {
   "cell_type": "code",
   "execution_count": null,
   "metadata": {},
   "outputs": [],
   "source": [
    "conn.close()"
   ]
  },
  {
   "cell_type": "code",
   "execution_count": null,
   "metadata": {},
   "outputs": [],
   "source": []
  }
 ],
 "metadata": {
  "kernelspec": {
   "display_name": "Python 3",
   "language": "python",
   "name": "python3"
  },
  "language_info": {
   "codemirror_mode": {
    "name": "ipython",
    "version": 3
   },
   "file_extension": ".py",
   "mimetype": "text/x-python",
   "name": "python",
   "nbconvert_exporter": "python",
   "pygments_lexer": "ipython3",
   "version": "3.6.8"
  }
 },
 "nbformat": 4,
 "nbformat_minor": 4
}
